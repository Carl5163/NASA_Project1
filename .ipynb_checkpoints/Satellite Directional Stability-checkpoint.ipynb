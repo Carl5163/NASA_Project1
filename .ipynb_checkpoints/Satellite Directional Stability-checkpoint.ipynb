{
 "cells": [
  {
   "cell_type": "markdown",
   "metadata": {
    "collapsed": true
   },
   "source": [
    "# Variables"
   ]
  },
  {
   "cell_type": "markdown",
   "metadata": {},
   "source": [
    " $w_i = \\text{ angular velocities}$<br>\n",
    " $I_i = \\text{ inertias of the satellite}$<br>\n",
    " $J_t = \\text{ tangential inertia of the wheel torque}$<br>\n",
    " $h = \\text{ constant angular momentum of the wheel}$<br>\n",
    " $u = \\text{ wheel torque}$<br>\n",
    " $K_1 = I_1 + J_t$<br>\n",
    " $K_3 = I_3 + J_t$<br>\n",
    "\n",
    " $K_1\\dot{w_1} = (I_2 - K_3)w_2w_3 + hw_3$<br>\n",
    " $I_2\\dot{w_2} = (K_3 - K_1)w_1w_3 - u$<br>\n",
    " $K_3\\dot{w_3} = (K_1 - I_2)w_1w_2 - hw_1$<br>\n",
    " $h = u = 0$"
   ]
  },
  {
   "cell_type": "code",
   "execution_count": 22,
   "metadata": {},
   "outputs": [],
   "source": [
    "import matplotlib.pyplot as plt\n",
    "import numpy as np\n",
    "import csv\n",
    "# Y_1' = y' = Y_2; Y_1(0)=0\n",
    "# Y_2' = y'' = -Y_1; Y_2(0)=1 (from the DE)\n",
    "#\n",
    "\n",
    "c_W1=13\n",
    "c_W2=14\n",
    "c_W3=15\n",
    "\n",
    "#Stepsize\n",
    "h=0.01\n",
    "\n",
    "#x-value array\n",
    "xvals=np.arange(0,10,h)\n",
    "\n",
    "#Solution arrays\n",
    "\n",
    "file = np.loadtxt(\"DataSet.csv\", delimiter=\",\")\n",
    "\n",
    "W1=[file[0][c_W1]]\n",
    "W2=[file[0][c_W2]]\n",
    "W3=[file[0][c_31]]\n",
    "\n",
    "\n",
    "def f(x,w2,w3):\n",
    "\treturn w2*w3\n",
    "def g(x,w1,w3):\n",
    "\treturn w1*w3\n",
    "def h(x,w1,w2):\n",
    "\treturn w1*w2"
   ]
  },
  {
   "cell_type": "code",
   "execution_count": null,
   "metadata": {
    "collapsed": true
   },
   "outputs": [],
   "source": [
    "\n",
    "'''\n",
    "Y1=[0]\n",
    "Y2=[1]\n",
    "\n",
    "#RHS of the 1st order eqts\n",
    "def f(x,y1,y2):\n",
    "\treturn y2\n",
    "def g(x,y1,y2):\n",
    "\treturn -y1\n",
    "\n",
    "# k functions\n",
    "def k1(xn,y1n,y2n):\n",
    "\treturn h*f(xn,y1n,y2n)\n",
    "def k2(xn,y1n,y2n):\n",
    "\treturn h*f(xn+h/2,y1n+k1(xn,y1n,y2n)/2, y2n+l1(xn,y1n,y2n)/2)\n",
    "def k3(xn,y1n,y2n):\n",
    "        return h*f(xn+h/2,y1n+k2(xn,y1n,y2n)/2, y2n+l2(xn,y1n,y2n)/2)\n",
    "def k4(xn,y1n,y2n):\n",
    "\treturn h*f(xn+h,y1n+k3(xn,y1n,y2n), y2n+l3(xn,y1n,y2n))\n",
    "def k(xn,y1n,y2n):\n",
    "\treturn (1.0/6.0)*(k1(xn,y1n,y2n)+2*k2(xn,y1n,y2n)+2*k3(xn,y1n,y2n)+k4(xn,y1n,y2n))\n",
    "\n",
    "# l functions\n",
    "def l1(xn,y1n,y2n):\n",
    "        return h*g(xn,y1n,y2n)\n",
    "def l2(xn,y1n,y2n):\n",
    "        return h*g(xn+h/2,y1n+k1(xn,y1n,y2n)/2, y2n+l1(xn,y1n,y2n)/2)\n",
    "def l3(xn,y1n,y2n):\n",
    "        return h*g(xn+h/2,y1n+k2(xn,y1n,y2n)/2, y2n+l2(xn,y1n,y2n)/2)\n",
    "def l4(xn,y1n,y2n):\n",
    "        return h*g(xn+h,y1n+k3(xn,y1n,y2n), y2n+l3(xn,y1n,y2n))\n",
    "def l(xn,y1n,y2n):\n",
    "        return (1.0/6.0)*(l1(xn,y1n,y2n)+2*l2(xn,y1n,y2n)+2*l3(xn,y1n,y2n)+l4(xn,y1n,y2n))\n",
    "\n",
    "n=0\n",
    "while(n<len(xvals)-1):\n",
    "\tY1.append(Y1[n]+k(xvals[n],Y1[n],Y2[n]))\n",
    "\tY2.append(Y2[n]+l(xvals[n],Y1[n],Y2[n]))\n",
    "\tn+=1\n",
    "\n",
    "print(k1(0,0,1))\n",
    "print(k2(0,0,1))\n",
    "print(k3(0,0,1))\n",
    "print(k4(0,0,1))\n",
    "print(k(0,0,1))\n",
    "\n",
    "plt.plot(xvals,Y1)\n",
    "plt.plot(xvals,Y2)\n",
    "plt.show()\n",
    "'''\n",
    "\n"
   ]
  },
  {
   "cell_type": "code",
   "execution_count": null,
   "metadata": {
    "collapsed": true
   },
   "outputs": [],
   "source": []
  }
 ],
 "metadata": {
  "kernelspec": {
   "display_name": "Python 3",
   "language": "python",
   "name": "python3"
  },
  "language_info": {
   "codemirror_mode": {
    "name": "ipython",
    "version": 3
   },
   "file_extension": ".py",
   "mimetype": "text/x-python",
   "name": "python",
   "nbconvert_exporter": "python",
   "pygments_lexer": "ipython3",
   "version": "3.6.3"
  }
 },
 "nbformat": 4,
 "nbformat_minor": 2
}
