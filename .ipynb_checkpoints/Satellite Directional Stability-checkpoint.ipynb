{
 "cells": [
  {
   "cell_type": "markdown",
   "metadata": {},
   "source": [
    " $w = \\text{ angular velocities}<br>\n",
    " $I = \\text{ inertias of the satellite}<br>\n",
    " $J = \\text{ tangential inertia of the wheel torque}<br>\n",
    " $h = \\text{ constant angular momentum of the wheel}<br>\n",
    " $u = \\text{ wheel torque}<br>\n",
    " $K1 = I1 + J$<br>\n",
    " $K3 = I3 + J$<br>\n",
    "\n",
    " $K1*w1 = (I2 - K3)w2*w3 + h*w3$<br>\n",
    " $I2*w2 = (K3 - K1)w1*w3 - u$<br>\n",
    " $K3*w3 = (K1 - I2)w1*w2 - h*w1$<br>\n",
    " $h = u = 0$"
   ]
  },
  {
   "cell_type": "code",
   "execution_count": null,
   "metadata": {
    "collapsed": true
   },
   "outputs": [],
   "source": []
  }
 ],
 "metadata": {
  "kernelspec": {
   "display_name": "Python 3",
   "language": "python",
   "name": "python3"
  },
  "language_info": {
   "codemirror_mode": {
    "name": "ipython",
    "version": 3
   },
   "file_extension": ".py",
   "mimetype": "text/x-python",
   "name": "python",
   "nbconvert_exporter": "python",
   "pygments_lexer": "ipython3",
   "version": "3.6.3"
  }
 },
 "nbformat": 4,
 "nbformat_minor": 2
}
