{
 "cells": [
  {
   "cell_type": "code",
   "execution_count": null,
   "metadata": {},
   "outputs": [],
   "source": [
    "# w = angular velocities\n",
    "# I = inertias of the satellite\n",
    "# J = tangential inertia of the wheel torque\n",
    "# h = constant angular momentum of the wheel\n",
    "# u = wheel torque\n",
    "# K1 = I1 + J\n",
    "# K3 = I3 + J\n",
    "\n",
    "# K1*w1 = (I2 - K3)w2*w3 + h*w3\n",
    "# I2*w2 = (K3 - K1)w1*w3 - u\n",
    "# K3*w3 = (K1 - I2)w1*w2 - h*w1\n",
    "# h = u = 0"
   ]
  },
  {
   "cell_type": "code",
   "execution_count": null,
   "metadata": {
    "collapsed": true
   },
   "outputs": [],
   "source": []
  }
 ],
 "metadata": {
  "kernelspec": {
   "display_name": "Python 3",
   "language": "python",
   "name": "python3"
  },
  "language_info": {
   "codemirror_mode": {
    "name": "ipython",
    "version": 3
   },
   "file_extension": ".py",
   "mimetype": "text/x-python",
   "name": "python",
   "nbconvert_exporter": "python",
   "pygments_lexer": "ipython3",
   "version": "3.6.1"
  }
 },
 "nbformat": 4,
 "nbformat_minor": 2
}
