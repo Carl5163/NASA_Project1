{
 "cells": [
  {
   "cell_type": "markdown",
   "metadata": {
    "collapsed": true
   },
   "source": [
    "# Variables"
   ]
  },
  {
   "cell_type": "markdown",
   "metadata": {},
   "source": [
    " $w_i = \\text{ angular velocities}$<br>\n",
    " $I_i = \\text{ inertias of the satellite}$<br>\n",
    " $J_t = \\text{ tangential inertia of the wheel torque}$<br>\n",
    " $h = \\text{ constant angular momentum of the wheel}$<br>\n",
    " $u = \\text{ wheel torque}$<br>\n",
    " $K_1 = I_1 + J_t$<br>\n",
    " $K_3 = I_3 + J_t$<br>\n",
    "\n",
    " $K_1\\dot{w_1} = (I_2 - K_3)w_2w_3 + hw_3$<br>\n",
    " $I_2\\dot{w_2} = (K_3 - K_1)w_1w_3 - u$<br>\n",
    " $K_3\\dot{w_3} = (K_1 - I_2)w_1w_2 - hw_1$<br>\n",
    " $h = u = 0$"
   ]
  },
  {
   "cell_type": "code",
   "execution_count": null,
   "metadata": {
    "collapsed": true
   },
   "outputs": [],
   "source": []
  },
  {
   "cell_type": "code",
   "execution_count": null,
   "metadata": {
    "collapsed": true
   },
   "outputs": [],
   "source": []
  }
 ],
 "metadata": {
  "kernelspec": {
   "display_name": "Python 3",
   "language": "python",
   "name": "python3"
  },
  "language_info": {
   "codemirror_mode": {
    "name": "ipython",
    "version": 3
   },
   "file_extension": ".py",
   "mimetype": "text/x-python",
   "name": "python",
   "nbconvert_exporter": "python",
   "pygments_lexer": "ipython3",
   "version": "3.6.3"
  }
 },
 "nbformat": 4,
 "nbformat_minor": 2
}
