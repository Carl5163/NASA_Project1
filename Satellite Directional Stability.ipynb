{
 "cells": [
  {
   "cell_type": "markdown",
   "metadata": {
    "collapsed": true
   },
   "source": [
    "# Variables"
   ]
  },
  {
   "cell_type": "markdown",
   "metadata": {},
   "source": [
    " $\\omega_i = \\text{ angular velocities}$<br>\n",
    " $I_i = \\text{ inertias of the satellite}$<br>\n",
    " $J_t = \\text{ tangential inertia of the wheel torque}$<br>\n",
    " $h = \\text{ constant angular momentum of the wheel}$<br>\n",
    " $u = \\text{ wheel torque}$<br>\n",
    " $K_1 = I_1 + J_t$<br>\n",
    " $K_3 = I_3 + J_t$<br>\n",
    "\n",
    " $K_1\\dot{w_1} = (I_2 - K_3)\\omega_2w_3 + hw_3$<br>\n",
    " $I_2\\dot{w_2} = (K_3 - K_1)\\omega_1w_3 - u$<br>\n",
    " $K_3\\dot{w_3} = (K_1 - I_2)\\omega_1w_2 - hw_1$<br>\n",
    " $h = u = 0$"
   ]
  },
  {
   "cell_type": "code",
   "execution_count": 27,
   "metadata": {},
   "outputs": [
    {
     "name": "stdout",
     "output_type": "stream",
     "text": [
      "0.0\n",
      "0.0\n",
      "0.0\n",
      "0.0\n",
      "0.0\n"
     ]
    },
    {
     "data": {
      "image/png": "[encoded data removed]",
      "text/plain": [
       "<matplotlib.figure.Figure at 0x1b279eb6f60>"
      ]
     },
     "metadata": {},
     "output_type": "display_data"
    }
   ],
   "source": [
    "import matplotlib.pyplot as plt\n",
    "import numpy as np\n",
    "import csv\n",
    "# Y_1' = y' = Y_2; Y_1(0)=0\n",
    "# Y_2' = y'' = -Y_1; Y_2(0)=1 (from the DE)\n",
    "#\n",
    "\n",
    "c_W1=13\n",
    "c_W2=14\n",
    "c_W3=15\n",
    "\n",
    "#Stepsize\n",
    "h=0.01\n",
    "\n",
    "#x-value array\n",
    "xvals=np.arange(0,10,h)\n",
    "\n",
    "#Solution arrays\n",
    "\n",
    "file = np.loadtxt(\"DataSet.csv\", delimiter=\",\")\n",
    "\n",
    "W1=[file[0][c_W1]]\n",
    "W2=[file[0][c_W2]]\n",
    "W3=[file[0][c_W1]]\n",
    "\n",
    "\n",
    "def f(x,w2,w3):\n",
    "\treturn w2*w3\n",
    "def g(x,w1,w3):\n",
    "\treturn w1*w3\n",
    "def e(x,w1,w2):\n",
    "\treturn w1*w2\n",
    "\n",
    "\n",
    "# k functions\n",
    "def k1(xn,w1n,w2n):\n",
    "\treturn h*f(xn,w1n,w2n)\n",
    "def k2(xn,w1n,w2n):\n",
    "\treturn h*f(xn+h/2,w1n+k1(xn,w1n,w2n)/2, w2n+l1(xn,w1n,w2n)/2)\n",
    "def k3(xn,w1n,w2n):\n",
    "        return h*f(xn+h/2,w1n+k2(xn,w1n,w2n)/2, w2n+l2(xn,w1n,w2n)/2)\n",
    "def k4(xn,w1n,w2n):\n",
    "\treturn h*f(xn+h,w1n+k3(xn,w1n,w2n), w2n+l3(xn,w1n,w2n))\n",
    "def k(xn,w1n,w2n):\n",
    "\treturn (1.0/6.0)*(k1(xn,w1n,w2n)+2*k2(xn,w1n,w2n)+2*k3(xn,w1n,w2n)+k4(xn,w1n,w2n))\n",
    "\n",
    "# l functions\n",
    "def l1(xn,w1n,w2n):\n",
    "        return h*g(xn,w1n,w2n)\n",
    "def l2(xn,w1n,w2n):\n",
    "        return h*g(xn+h/2,w1n+k1(xn,w1n,w2n)/2, w2n+l1(xn,w1n,w2n)/2)\n",
    "def l3(xn,w1n,w2n):\n",
    "        return h*g(xn+h/2,w1n+k2(xn,w1n,w2n)/2, w2n+l2(xn,w1n,w2n)/2)\n",
    "def l4(xn,w1n,w2n):\n",
    "        return h*g(xn+h,w1n+k3(xn,w1n,w2n), w2n+l3(xn,w1n,w2n))\n",
    "def l(xn,w1n,w2n):\n",
    "        return (1.0/6.0)*(l1(xn,w1n,w2n)+2*l2(xn,w1n,w2n)+2*l3(xn,w1n,w2n)+l4(xn,w1n,w2n))\n",
    "       \n",
    "# m functions\n",
    "def m1(xn,w1n,w2n):\n",
    "        return h*e(xn,w1n,w2n)\n",
    "def m2(xn,w1n,w2n):\n",
    "        return h*e(xn+h/2,w1n+k1(xn,w1n,w2n)/2, w2n+l1(xn,w1n,w2n)/2)\n",
    "def m3(xn,w1n,w2n):\n",
    "        return h*e(xn+h/2,w1n+k2(xn,w1n,w2n)/2, w2n+l2(xn,w1n,w2n)/2)\n",
    "def m4(xn,w1n,w2n):\n",
    "        return h*e(xn+h,w1n+k3(xn,w1n,w2n), w2n+l3(xn,w1n,w2n))\n",
    "def m(xn,w1n,w2n):\n",
    "        return (1.0/6.0)*(l1(xn,w1n,w2n)+2*l2(xn,w1n,w2n)+2*l3(xn,w1n,w2n)+l4(xn,w1n,w2n))\n",
    "    \n",
    "    \n",
    "n=0\n",
    "while(n<len(xvals)-1):\n",
    "\tW1.append(W1[n]+k(xvals[n],W2[n],W3[n]))\n",
    "\tW2.append(W2[n]+l(xvals[n],W1[n],W3[n]))\n",
    "\tW3.append(W2[n]+m(xvals[n],W1[n],W2[n]))\n",
    "\tn+=1\n",
    "    \n",
    "    \n",
    "print(k1(0,0,1))\n",
    "print(k2(0,0,1))\n",
    "print(k3(0,0,1))\n",
    "print(k4(0,0,1))\n",
    "print(k(0,0,1))\n",
    "\n",
    "plt.plot(xvals,W1)\n",
    "plt.plot(xvals,W2)\n",
    "plt.plot(xvals,W3)\n",
    "plt.show()\n"
   ]
  },
  {
   "cell_type": "code",
   "execution_count": null,
   "metadata": {
    "collapsed": true
   },
   "outputs": [],
   "source": [
    "#I_1 = (mass/12)*(width^2 + depth^2)\n",
    "#I_2 = (mass/12)*(height^2 + depth^2)\n",
    "#I_3 = (mass/12)*(width^2 + height^2)"
   ]
  },
  {
   "cell_type": "markdown",
   "metadata": {},
   "source": [
    "# NASA Meeting 2/8\n",
    "\n",
    "Talk at NASA: May 16, 9:00-10:30 <br>\n",
    "Great Stage, NASA Wide, Visibility <br>\n",
    "WIFI WVUPublic <br>\n",
    "WIFI Password: passgodonotcollect$200<br>\n",
    "\n",
    "There is a package in scipy to solve the equations. <br>\n",
    "We are looking for what causes the problem to become chaotic. This defines our failure matrix. <br>\n",
    "Ours is written on the slide. <br>\n",
    "Use KNN and KDE which are in scikitlearn.<br>\n",
    "\n",
    "We start with input vars created by monte carlo and get a solution out of the equation. <br>\n",
    "Then run a script to run through our failure matrix for every set of input variables. <br>\n",
    "\n",
    "Notebook cells can speak to each other. Can run functions from other cells. Place documentation surrounding each file to explain its use.<br>\n",
    "\n",
    "Packagename for solving equations: <br>\n",
    "scipy.integrate<br>\n",
    "    odeint<br>\n",
    "\n",
    "That is, (from scipy.integrate import odeint).<br>\n",
    "\n",
    "Missing the physics background. <br>\n",
    "We can assume $J_t = 0$.<br>\n",
    "\n",
    "$I_x=\\frac{m}{12}(d_y^2+d_z^2)$<br>\n",
    "$I_y=\\frac{m}{12}(d_x^2+d_z^2)$<br>\n",
    "$I_z=\\frac{m}{12}(d_x^2+d_y^2)$<br>\n",
    "\n",
    "\n",
    "<U><B>Make a Plan<br></B></U>\n",
    "Max suggested the following timeline:<br>\n",
    "Solve equations by 2/15<br>\n",
    "3 Weeks for Monte Carlo and Labeling Data<br>\n",
    "3 Weeks for Machine Learning Algorithms<br>\n",
    "\n",
    "Failure Matix:<br>\n",
    "The satelite is in pure spin if the following:<br>\n",
    "1) If $max(\\omega_1) > .20 of max(\\omega_2)$ then fail.<br>\n",
    "2) If $max(\\omega_3) > .20 of max(\\omega_2)$ then fail.<br>\n",
    "\n",
    "\n",
    "Error = $\\sigma_{mc}$ = $\\frac{1}{\\sqrt[]{n}}$\n",
    "\n",
    "Max suggested around a million, but he expects us to justify it.<br>\n",
    "Use \"Linear Interpolation\" in package.<br>\n",
    "Max only wants to see around 60s for this.<br>\n",
    "Max wants one graph with all MC sims. Can also add more for just successes and just failures etc.\n",
    "<B>INSERT PHONE PIC HERE</B>\n",
    "\n",
    "<b>Next Meeting</b>: <Br>\n",
    "Thu 2/22,  8:45"
   ]
  },
  {
   "cell_type": "code",
   "execution_count": null,
   "metadata": {
    "collapsed": true
   },
   "outputs": [],
   "source": [
    " "
   ]
  }
 ],
 "metadata": {
  "kernelspec": {
   "display_name": "Python 3",
   "language": "python",
   "name": "python3"
  },
  "language_info": {
   "codemirror_mode": {
    "name": "ipython",
    "version": 3
   },
   "file_extension": ".py",
   "mimetype": "text/x-python",
   "name": "python",
   "nbconvert_exporter": "python",
   "pygments_lexer": "ipython3",
   "version": "3.6.1"
  }
 },
 "nbformat": 4,
 "nbformat_minor": 2
}
